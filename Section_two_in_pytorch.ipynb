{
  "nbformat": 4,
  "nbformat_minor": 0,
  "metadata": {
    "colab": {
      "provenance": [],
      "collapsed_sections": [
        "9rIy16_OS1QS",
        "kFatGf0H1hYx",
        "onZyzh0uS7-9",
        "xK_Y60_6Vfid",
        "1vwR8fQ8VlEw",
        "JNIIyvPoYNXw",
        "piSmPkY6YzNP",
        "Y11sxfdAZxPz",
        "AH5AyvDHbDnY",
        "7FOmWo7_dapB"
      ]
    },
    "kernelspec": {
      "name": "python3",
      "display_name": "Python 3"
    },
    "language_info": {
      "name": "python"
    }
  },
  "cells": [
    {
      "cell_type": "markdown",
      "source": [
        "#  <h1 align=\"center\"><font size=\"7\">PyTorch Session 2</font></h1>\n"
      ],
      "metadata": {
        "id": "9rIy16_OS1QS"
      }
    },
    {
      "cell_type": "markdown",
      "source": [
        "## Libraries"
      ],
      "metadata": {
        "id": "kFatGf0H1hYx"
      }
    },
    {
      "cell_type": "code",
      "execution_count": null,
      "metadata": {
        "id": "2PY6Ix9h1JRl"
      },
      "outputs": [],
      "source": [
        "# These are the libraries will be used.\n",
        "\n",
        "import torch            # PyTorch Library.\n",
        "import numpy as np \n",
        "import pandas as pd\n",
        "\n",
        "import matplotlib.pyplot as plt\n",
        "%matplotlib inline "
      ]
    },
    {
      "cell_type": "code",
      "source": [
        "#notice: Disable all warnings \n",
        "import warnings\n",
        "warnings.filterwarnings('ignore')"
      ],
      "metadata": {
        "id": "igaSinPjrgeq"
      },
      "execution_count": null,
      "outputs": []
    },
    {
      "cell_type": "code",
      "source": [
        "# Check PyTorch version\n",
        "\n",
        "torch.__version__"
      ],
      "metadata": {
        "colab": {
          "base_uri": "https://localhost:8080/"
        },
        "id": "kqESR8Vn11Cy",
        "outputId": "90ab864a-362c-4eb4-cd1d-5d9c20c90cec"
      },
      "execution_count": null,
      "outputs": [
        {
          "output_type": "execute_result",
          "data": {
            "text/plain": [
              "'1.13.1+cu116'"
            ],
            "application/vnd.google.colaboratory.intrinsic+json": {
              "type": "string"
            }
          },
          "metadata": {},
          "execution_count": 3
        }
      ]
    },
    {
      "cell_type": "markdown",
      "source": [
        "## Indexing and Slicing"
      ],
      "metadata": {
        "id": "onZyzh0uS7-9"
      }
    },
    {
      "cell_type": "code",
      "execution_count": null,
      "metadata": {
        "colab": {
          "base_uri": "https://localhost:8080/"
        },
        "id": "GqlTsgcxRsF7",
        "outputId": "3e7bce83-49af-481e-8a46-0d2bb9bedc8b"
      },
      "outputs": [
        {
          "output_type": "execute_result",
          "data": {
            "text/plain": [
              "tensor([[11, 12, 13],\n",
              "        [21, 22, 23],\n",
              "        [31, 32, 33]])"
            ]
          },
          "metadata": {},
          "execution_count": 12
        }
      ],
      "source": [
        "# Use tensor_obj[row, column] and tensor_obj[row][column] to access certain position\n",
        "\n",
        "tensor_example = torch.tensor([[11, 12, 13], [21, 22, 23], [31, 32, 33]])\n",
        "tensor_example"
      ]
    },
    {
      "cell_type": "code",
      "source": [
        "print(\"What is the value on 2nd-row 3rd-column? \", tensor_example[1, 2])"
      ],
      "metadata": {
        "colab": {
          "base_uri": "https://localhost:8080/"
        },
        "id": "ngNojt8xUCWi",
        "outputId": "09747fbb-28b9-45fc-84b6-6322e69b7eef"
      },
      "execution_count": null,
      "outputs": [
        {
          "output_type": "stream",
          "name": "stdout",
          "text": [
            "What is the value on 2nd-row 3rd-column?  tensor(23)\n"
          ]
        }
      ]
    },
    {
      "cell_type": "code",
      "source": [
        "print(\"What is the value on 2nd-row 3rd-column? \", tensor_example[1][2])"
      ],
      "metadata": {
        "colab": {
          "base_uri": "https://localhost:8080/"
        },
        "id": "WlsUmKRvUCTQ",
        "outputId": "50842905-b71b-4e69-c02a-ff39d6b1974b"
      },
      "execution_count": null,
      "outputs": [
        {
          "output_type": "stream",
          "name": "stdout",
          "text": [
            "What is the value on 2nd-row 3rd-column?  tensor(23)\n"
          ]
        }
      ]
    },
    {
      "cell_type": "code",
      "source": [
        "tensor_example[0][0]"
      ],
      "metadata": {
        "colab": {
          "base_uri": "https://localhost:8080/"
        },
        "id": "LCMIkYqETFll",
        "outputId": "84ff7cc9-0cfd-4061-bb4d-572060209cdd"
      },
      "execution_count": null,
      "outputs": [
        {
          "output_type": "execute_result",
          "data": {
            "text/plain": [
              "tensor(11)"
            ]
          },
          "metadata": {},
          "execution_count": 5
        }
      ]
    },
    {
      "cell_type": "markdown",
      "source": [
        "Slicing"
      ],
      "metadata": {
        "id": "9Lso3RnfT4jl"
      }
    },
    {
      "cell_type": "code",
      "source": [
        "# Use tensor_obj[begin_row_number: end_row_number, begin_column_number: end_column number] \n",
        "# and tensor_obj[row][begin_column_number: end_column number] to do the slicing\n",
        "\n",
        "tensor_example = torch.tensor([[11, 12, 13], [21, 22, 23], [31, 32, 33]])\n",
        "tensor_example"
      ],
      "metadata": {
        "colab": {
          "base_uri": "https://localhost:8080/"
        },
        "id": "a8oJRBA9TZy4",
        "outputId": "4dd1c4b7-ac6d-43e8-a76d-c74aada77013"
      },
      "execution_count": null,
      "outputs": [
        {
          "output_type": "execute_result",
          "data": {
            "text/plain": [
              "tensor([[11, 12, 13],\n",
              "        [21, 22, 23],\n",
              "        [31, 32, 33]])"
            ]
          },
          "metadata": {},
          "execution_count": 9
        }
      ]
    },
    {
      "cell_type": "code",
      "source": [
        "print(\"What is the value on 1st-row first two columns? \", tensor_example[0, 0:2])"
      ],
      "metadata": {
        "colab": {
          "base_uri": "https://localhost:8080/"
        },
        "id": "WQO7ppx_T3f9",
        "outputId": "5c106dec-e864-4b7e-ff31-4b0ba7890d71"
      },
      "execution_count": null,
      "outputs": [
        {
          "output_type": "stream",
          "name": "stdout",
          "text": [
            "What is the value on 1st-row first two columns?  tensor([11, 12])\n"
          ]
        }
      ]
    },
    {
      "cell_type": "code",
      "source": [
        "print(\"What is the value on 1st-row first two columns? \", tensor_example[0][0:2])"
      ],
      "metadata": {
        "colab": {
          "base_uri": "https://localhost:8080/"
        },
        "id": "P0Ho4YAJT-HH",
        "outputId": "5ee45105-3ae3-4649-a8f0-f6eab1fac92a"
      },
      "execution_count": null,
      "outputs": [
        {
          "output_type": "stream",
          "name": "stdout",
          "text": [
            "What is the value on 1st-row first two columns?  tensor([11, 12])\n"
          ]
        }
      ]
    },
    {
      "cell_type": "code",
      "source": [
        "# Give an idea on tensor_obj[number: number][number]\n",
        "\n",
        "tensor_example = torch.tensor([[11, 12, 13], [21, 22, 23], [31, 32, 33]])\n",
        "tensor_example"
      ],
      "metadata": {
        "colab": {
          "base_uri": "https://localhost:8080/"
        },
        "id": "bATQj8dDT_nE",
        "outputId": "b37e9f26-cf02-4a1f-f19e-1659ebfdd74a"
      },
      "execution_count": null,
      "outputs": [
        {
          "output_type": "execute_result",
          "data": {
            "text/plain": [
              "tensor([[11, 12, 13],\n",
              "        [21, 22, 23],\n",
              "        [31, 32, 33]])"
            ]
          },
          "metadata": {},
          "execution_count": 13
        }
      ]
    },
    {
      "cell_type": "code",
      "source": [
        "sliced_tensor_example = tensor_example[1:3]\n",
        "sliced_tensor_example"
      ],
      "metadata": {
        "colab": {
          "base_uri": "https://localhost:8080/"
        },
        "id": "iq7Es1DoUTsM",
        "outputId": "58e0e8fb-2261-4a45-8610-75b9725044a5"
      },
      "execution_count": null,
      "outputs": [
        {
          "output_type": "execute_result",
          "data": {
            "text/plain": [
              "tensor([[21, 22, 23],\n",
              "        [31, 32, 33]])"
            ]
          },
          "metadata": {},
          "execution_count": 14
        }
      ]
    },
    {
      "cell_type": "code",
      "source": [
        "print(\"1. Slicing step on tensor_example: \")\n",
        "print(\"Result after tensor_example[1:3]: \", sliced_tensor_example)\n",
        "print(\"Dimension after tensor_example[1:3]: \", sliced_tensor_example.ndimension())\n",
        "print(\"================================================\")\n",
        "print(\"2. Pick an index on sliced_tensor_example: \")\n",
        "print(\"Result after sliced_tensor_example[1]: \", sliced_tensor_example[1])\n",
        "print(\"Dimension after sliced_tensor_example[1]: \", sliced_tensor_example[1].ndimension())\n",
        "print(\"================================================\")\n",
        "print(\"3. Combine these step together:\")\n",
        "print(\"Result: \", tensor_example[1:3][1])\n",
        "print(\"Dimension: \", tensor_example[1:3][1].ndimension())"
      ],
      "metadata": {
        "colab": {
          "base_uri": "https://localhost:8080/"
        },
        "id": "bab09XfEUTou",
        "outputId": "ca5a3929-170a-4d55-c800-c08b2d442643"
      },
      "execution_count": null,
      "outputs": [
        {
          "output_type": "stream",
          "name": "stdout",
          "text": [
            "1. Slicing step on tensor_example: \n",
            "Result after tensor_example[1:3]:  tensor([[21, 22, 23],\n",
            "        [31, 32, 33]])\n",
            "Dimension after tensor_example[1:3]:  2\n",
            "================================================\n",
            "2. Pick an index on sliced_tensor_example: \n",
            "Result after sliced_tensor_example[1]:  tensor([31, 32, 33])\n",
            "Dimension after sliced_tensor_example[1]:  1\n",
            "================================================\n",
            "3. Combine these step together:\n",
            "Result:  tensor([31, 32, 33])\n",
            "Dimension:  1\n"
          ]
        }
      ]
    },
    {
      "cell_type": "code",
      "source": [
        "# Use tensor_obj[begin_row_number: end_row_number, begin_column_number: end_column number] \n",
        "\n",
        "tensor_example = torch.tensor([[11, 12, 13], [21, 22, 23], [31, 32, 33]])\n",
        "tensor_example"
      ],
      "metadata": {
        "colab": {
          "base_uri": "https://localhost:8080/"
        },
        "id": "1mnR2y3xUTms",
        "outputId": "fc0d78aa-790d-453c-e103-3db957e35840"
      },
      "execution_count": null,
      "outputs": [
        {
          "output_type": "execute_result",
          "data": {
            "text/plain": [
              "tensor([[11, 12, 13],\n",
              "        [21, 22, 23],\n",
              "        [31, 32, 33]])"
            ]
          },
          "metadata": {},
          "execution_count": 16
        }
      ]
    },
    {
      "cell_type": "code",
      "source": [
        "print(\"What is the value on 3rd-column last two rows? \", tensor_example[1:3, 2])"
      ],
      "metadata": {
        "colab": {
          "base_uri": "https://localhost:8080/"
        },
        "id": "U8k4lF_PUTks",
        "outputId": "2f977e80-a96b-4e8c-fc46-6ab9c308f7a2"
      },
      "execution_count": null,
      "outputs": [
        {
          "output_type": "stream",
          "name": "stdout",
          "text": [
            "What is the value on 3rd-column last two rows?  tensor([23, 33])\n"
          ]
        }
      ]
    },
    {
      "cell_type": "code",
      "source": [
        "# Practice: Use slice and index to change the values on the matrix tensor_ques.\n",
        "\n",
        "tensor_ques = torch.tensor([[11, 12, 13], [21, 22, 23], [31, 32, 33]])\n",
        "tensor_ques"
      ],
      "metadata": {
        "colab": {
          "base_uri": "https://localhost:8080/"
        },
        "id": "oZ4css6uUTii",
        "outputId": "5fb489f6-b0b8-4e87-a053-e91a2f97fe62"
      },
      "execution_count": null,
      "outputs": [
        {
          "output_type": "execute_result",
          "data": {
            "text/plain": [
              "tensor([[11, 12, 13],\n",
              "        [21, 22, 23],\n",
              "        [31, 32, 33]])"
            ]
          },
          "metadata": {},
          "execution_count": 18
        }
      ]
    },
    {
      "cell_type": "code",
      "source": [
        "tensor_ques[1, 1]= 5"
      ],
      "metadata": {
        "id": "nzY0o8xQUTga"
      },
      "execution_count": null,
      "outputs": []
    },
    {
      "cell_type": "code",
      "source": [
        "tensor_ques"
      ],
      "metadata": {
        "colab": {
          "base_uri": "https://localhost:8080/"
        },
        "id": "dBw76jbiUTeS",
        "outputId": "d07d24ef-ed30-4a25-c0fc-0d8378c7c4af"
      },
      "execution_count": null,
      "outputs": [
        {
          "output_type": "execute_result",
          "data": {
            "text/plain": [
              "tensor([[11, 12, 13],\n",
              "        [21,  5, 23],\n",
              "        [31, 32, 33]])"
            ]
          },
          "metadata": {},
          "execution_count": 20
        }
      ]
    },
    {
      "cell_type": "code",
      "source": [
        "tensor_ques[0:2, 2] = 88"
      ],
      "metadata": {
        "id": "MHKpzUowUTcP"
      },
      "execution_count": null,
      "outputs": []
    },
    {
      "cell_type": "code",
      "source": [
        "tensor_ques"
      ],
      "metadata": {
        "colab": {
          "base_uri": "https://localhost:8080/"
        },
        "id": "mW44-bZBUTaA",
        "outputId": "8ab1d71d-829d-4634-e3ab-8eff75be1d6d"
      },
      "execution_count": null,
      "outputs": [
        {
          "output_type": "execute_result",
          "data": {
            "text/plain": [
              "tensor([[11, 12, 88],\n",
              "        [21,  5, 88],\n",
              "        [31, 32, 88]])"
            ]
          },
          "metadata": {},
          "execution_count": 28
        }
      ]
    },
    {
      "cell_type": "markdown",
      "source": [
        "## Tensor Operations"
      ],
      "metadata": {
        "id": "xK_Y60_6Vfid"
      }
    },
    {
      "cell_type": "markdown",
      "source": [
        "### Tensor Addition"
      ],
      "metadata": {
        "id": "1vwR8fQ8VlEw"
      }
    },
    {
      "cell_type": "code",
      "source": [
        "# Calculate [[1, 0], [0, 1]] + [[2, 1], [1, 2]]\n",
        "\n",
        "X = torch.tensor([[1, 0],[0, 1]]) \n",
        "X"
      ],
      "metadata": {
        "colab": {
          "base_uri": "https://localhost:8080/"
        },
        "id": "fLlagDI8UTXp",
        "outputId": "34d52b20-1893-4d34-ccc9-72a67f27c9fd"
      },
      "execution_count": null,
      "outputs": [
        {
          "output_type": "execute_result",
          "data": {
            "text/plain": [
              "tensor([[1, 0],\n",
              "        [0, 1]])"
            ]
          },
          "metadata": {},
          "execution_count": 29
        }
      ]
    },
    {
      "cell_type": "code",
      "source": [
        "Y = torch.tensor([[2, 1],[1, 2]])\n",
        "Y"
      ],
      "metadata": {
        "colab": {
          "base_uri": "https://localhost:8080/"
        },
        "id": "pKQir4YBXoWs",
        "outputId": "5b8b90fd-672b-4002-fc5e-62916448baf3"
      },
      "execution_count": null,
      "outputs": [
        {
          "output_type": "execute_result",
          "data": {
            "text/plain": [
              "tensor([[2, 1],\n",
              "        [1, 2]])"
            ]
          },
          "metadata": {},
          "execution_count": 30
        }
      ]
    },
    {
      "cell_type": "code",
      "source": [
        "X_plus_Y = X + Y"
      ],
      "metadata": {
        "id": "hmJD23huXnl5"
      },
      "execution_count": null,
      "outputs": []
    },
    {
      "cell_type": "code",
      "source": [
        "print(\"The result of X + Y: \", X_plus_Y)"
      ],
      "metadata": {
        "colab": {
          "base_uri": "https://localhost:8080/"
        },
        "id": "3VeYeYuAUTVZ",
        "outputId": "a6ef2a2a-1b64-4ce7-edbe-60e9710f427f"
      },
      "execution_count": null,
      "outputs": [
        {
          "output_type": "stream",
          "name": "stdout",
          "text": [
            "The result of X + Y:  tensor([[3, 1],\n",
            "        [1, 3]])\n"
          ]
        }
      ]
    },
    {
      "cell_type": "code",
      "source": [
        "x = torch.tensor([[1,23,4,5], [8,56,3,7]])\n",
        "x"
      ],
      "metadata": {
        "colab": {
          "base_uri": "https://localhost:8080/"
        },
        "id": "oc3DoV26UTTK",
        "outputId": "5913416e-1a69-4fae-a349-eb3075b282c4"
      },
      "execution_count": null,
      "outputs": [
        {
          "output_type": "execute_result",
          "data": {
            "text/plain": [
              "tensor([[ 1, 23,  4,  5],\n",
              "        [ 8, 56,  3,  7]])"
            ]
          },
          "metadata": {},
          "execution_count": 33
        }
      ]
    },
    {
      "cell_type": "code",
      "source": [
        "y = torch.tensor([[45,68,9,2], [77,8,6,3]])\n",
        "y"
      ],
      "metadata": {
        "colab": {
          "base_uri": "https://localhost:8080/"
        },
        "id": "owtMAjvFUTQz",
        "outputId": "8dd36e4e-144b-4ec4-8cca-0cdfcfd08d48"
      },
      "execution_count": null,
      "outputs": [
        {
          "output_type": "execute_result",
          "data": {
            "text/plain": [
              "tensor([[45, 68,  9,  2],\n",
              "        [77,  8,  6,  3]])"
            ]
          },
          "metadata": {},
          "execution_count": 34
        }
      ]
    },
    {
      "cell_type": "code",
      "source": [
        "z = x+y \n",
        "z"
      ],
      "metadata": {
        "colab": {
          "base_uri": "https://localhost:8080/"
        },
        "id": "u2V_Soz2X-vI",
        "outputId": "3accf8b8-1380-4c8a-81bf-b2e16a0936d7"
      },
      "execution_count": null,
      "outputs": [
        {
          "output_type": "execute_result",
          "data": {
            "text/plain": [
              "tensor([[46, 91, 13,  7],\n",
              "        [85, 64,  9, 10]])"
            ]
          },
          "metadata": {},
          "execution_count": 35
        }
      ]
    },
    {
      "cell_type": "markdown",
      "source": [
        "### Scalar Multiplication"
      ],
      "metadata": {
        "id": "JNIIyvPoYNXw"
      }
    },
    {
      "cell_type": "code",
      "source": [
        "# Calculate 2 * [[2, 1], [1, 2]]\n",
        "\n",
        "Y = torch.tensor([[2, 1], [1, 2]]) \n",
        "Y"
      ],
      "metadata": {
        "colab": {
          "base_uri": "https://localhost:8080/"
        },
        "id": "Rj8zSKv4YB7p",
        "outputId": "1d8879d9-351d-42a1-bed1-2e8cc3f314fd"
      },
      "execution_count": null,
      "outputs": [
        {
          "output_type": "execute_result",
          "data": {
            "text/plain": [
              "tensor([[2, 1],\n",
              "        [1, 2]])"
            ]
          },
          "metadata": {},
          "execution_count": 36
        }
      ]
    },
    {
      "cell_type": "code",
      "source": [
        "two_Y = 2 * Y"
      ],
      "metadata": {
        "id": "5SGVEefFYU4S"
      },
      "execution_count": null,
      "outputs": []
    },
    {
      "cell_type": "code",
      "source": [
        "print(\"The result of 2Y: \", two_Y)"
      ],
      "metadata": {
        "colab": {
          "base_uri": "https://localhost:8080/"
        },
        "id": "xMgoyTMBYUjL",
        "outputId": "e3023a58-af28-4858-92ea-385291467def"
      },
      "execution_count": null,
      "outputs": [
        {
          "output_type": "stream",
          "name": "stdout",
          "text": [
            "The result of 2Y:  tensor([[4, 2],\n",
            "        [2, 4]])\n"
          ]
        }
      ]
    },
    {
      "cell_type": "code",
      "source": [
        "y = torch.tensor([[412,36,9,78,2,3,5], [52,8,6,3,2,1,88], [85,3,4,2,69,8,74]])\n",
        "y"
      ],
      "metadata": {
        "colab": {
          "base_uri": "https://localhost:8080/"
        },
        "id": "erWNwB08YUft",
        "outputId": "258bcdbb-4525-40e1-daaf-996b8f3eda1a"
      },
      "execution_count": null,
      "outputs": [
        {
          "output_type": "execute_result",
          "data": {
            "text/plain": [
              "tensor([[412,  36,   9,  78,   2,   3,   5],\n",
              "        [ 52,   8,   6,   3,   2,   1,  88],\n",
              "        [ 85,   3,   4,   2,  69,   8,  74]])"
            ]
          },
          "metadata": {},
          "execution_count": 39
        }
      ]
    },
    {
      "cell_type": "code",
      "source": [
        "z = y*9\n",
        "z"
      ],
      "metadata": {
        "colab": {
          "base_uri": "https://localhost:8080/"
        },
        "id": "m1wMx4cwYUdk",
        "outputId": "51c79f0a-9b6f-40bb-f671-ed0fbd1765a6"
      },
      "execution_count": null,
      "outputs": [
        {
          "output_type": "execute_result",
          "data": {
            "text/plain": [
              "tensor([[3708,  324,   81,  702,   18,   27,   45],\n",
              "        [ 468,   72,   54,   27,   18,    9,  792],\n",
              "        [ 765,   27,   36,   18,  621,   72,  666]])"
            ]
          },
          "metadata": {},
          "execution_count": 40
        }
      ]
    },
    {
      "cell_type": "markdown",
      "source": [
        "### Element-wise Product/Hadamard Product"
      ],
      "metadata": {
        "id": "piSmPkY6YzNP"
      }
    },
    {
      "cell_type": "code",
      "source": [
        "# Calculate [[1, 0], [0, 1]] * [[2, 1], [1, 2]]\n",
        "\n",
        "X = torch.tensor([[1, 0], [0, 1]])\n",
        "X"
      ],
      "metadata": {
        "colab": {
          "base_uri": "https://localhost:8080/"
        },
        "id": "8PEUetJfYT6w",
        "outputId": "092225e6-de33-4708-daf7-d954b9a7ebd9"
      },
      "execution_count": null,
      "outputs": [
        {
          "output_type": "execute_result",
          "data": {
            "text/plain": [
              "tensor([[1, 0],\n",
              "        [0, 1]])"
            ]
          },
          "metadata": {},
          "execution_count": 41
        }
      ]
    },
    {
      "cell_type": "code",
      "source": [
        "Y = torch.tensor([[2, 1], [1, 2]]) \n",
        "Y"
      ],
      "metadata": {
        "colab": {
          "base_uri": "https://localhost:8080/"
        },
        "id": "vft42xfvY4Es",
        "outputId": "2454d90f-95fd-4959-f973-7ebbf3b71726"
      },
      "execution_count": null,
      "outputs": [
        {
          "output_type": "execute_result",
          "data": {
            "text/plain": [
              "tensor([[2, 1],\n",
              "        [1, 2]])"
            ]
          },
          "metadata": {},
          "execution_count": 42
        }
      ]
    },
    {
      "cell_type": "code",
      "source": [
        "X_times_Y = X * Y"
      ],
      "metadata": {
        "id": "jYJbdIwwY4BT"
      },
      "execution_count": null,
      "outputs": []
    },
    {
      "cell_type": "code",
      "source": [
        "print(\"The result of X * Y: \", X_times_Y)"
      ],
      "metadata": {
        "colab": {
          "base_uri": "https://localhost:8080/"
        },
        "id": "9eGwdB8jY3_l",
        "outputId": "dee09fb6-289b-4cd0-cf58-4358217c4e69"
      },
      "execution_count": null,
      "outputs": [
        {
          "output_type": "stream",
          "name": "stdout",
          "text": [
            "The result of X * Y:  tensor([[2, 0],\n",
            "        [0, 2]])\n"
          ]
        }
      ]
    },
    {
      "cell_type": "code",
      "source": [
        "x = torch.tensor([[88,25], [66,75], [65,42]])\n",
        "x"
      ],
      "metadata": {
        "colab": {
          "base_uri": "https://localhost:8080/"
        },
        "id": "eVvQGhyxY39U",
        "outputId": "35481fde-cb2a-4ded-a6ed-8dfcf2a8f038"
      },
      "execution_count": null,
      "outputs": [
        {
          "output_type": "execute_result",
          "data": {
            "text/plain": [
              "tensor([[88, 25],\n",
              "        [66, 75],\n",
              "        [65, 42]])"
            ]
          },
          "metadata": {},
          "execution_count": 51
        }
      ]
    },
    {
      "cell_type": "code",
      "source": [
        "y = torch.tensor([[56,2], [6,53], [85, 9]])\n",
        "y"
      ],
      "metadata": {
        "colab": {
          "base_uri": "https://localhost:8080/"
        },
        "id": "fk4Hy6KMY37M",
        "outputId": "30cee841-9cfa-4e79-93b0-42cf90ab7c28"
      },
      "execution_count": null,
      "outputs": [
        {
          "output_type": "execute_result",
          "data": {
            "text/plain": [
              "tensor([[56,  2],\n",
              "        [ 6, 53],\n",
              "        [85,  9]])"
            ]
          },
          "metadata": {},
          "execution_count": 52
        }
      ]
    },
    {
      "cell_type": "code",
      "source": [
        "z = x * y\n",
        "z"
      ],
      "metadata": {
        "colab": {
          "base_uri": "https://localhost:8080/"
        },
        "id": "QUyezzx4ZV7d",
        "outputId": "0e78159f-27e1-4137-afb3-c2896c0356c4"
      },
      "execution_count": null,
      "outputs": [
        {
          "output_type": "execute_result",
          "data": {
            "text/plain": [
              "tensor([[4928,   50],\n",
              "        [ 396, 3975],\n",
              "        [5525,  378]])"
            ]
          },
          "metadata": {},
          "execution_count": 53
        }
      ]
    },
    {
      "cell_type": "markdown",
      "source": [
        "### Matrix Multiplication"
      ],
      "metadata": {
        "id": "Y11sxfdAZxPz"
      }
    },
    {
      "cell_type": "code",
      "source": [
        "# Calculate [[0, 1, 1], [1, 0, 1]] * [[1, 1], [1, 1], [-1, 1]]\n",
        "\n",
        "A = torch.tensor([[0, 1, 1], [1, 0, 1]])\n",
        "A"
      ],
      "metadata": {
        "colab": {
          "base_uri": "https://localhost:8080/"
        },
        "id": "lvMCp7NXZaTD",
        "outputId": "6c6e4a6b-4e45-40be-930e-eafd7b4baac7"
      },
      "execution_count": null,
      "outputs": [
        {
          "output_type": "execute_result",
          "data": {
            "text/plain": [
              "tensor([[0, 1, 1],\n",
              "        [1, 0, 1]])"
            ]
          },
          "metadata": {},
          "execution_count": 54
        }
      ]
    },
    {
      "cell_type": "code",
      "source": [
        "B = torch.tensor([[1, 1], [1, 1], [-1, 1]])\n",
        "B"
      ],
      "metadata": {
        "colab": {
          "base_uri": "https://localhost:8080/"
        },
        "id": "WCdgcjjRZ22g",
        "outputId": "b964dfdf-80d8-40b5-fa89-0ea72bd1bf50"
      },
      "execution_count": null,
      "outputs": [
        {
          "output_type": "execute_result",
          "data": {
            "text/plain": [
              "tensor([[ 1,  1],\n",
              "        [ 1,  1],\n",
              "        [-1,  1]])"
            ]
          },
          "metadata": {},
          "execution_count": 55
        }
      ]
    },
    {
      "cell_type": "code",
      "source": [
        "A_times_B = torch.mm(A,B)"
      ],
      "metadata": {
        "id": "HmU0iv5oZ2zB"
      },
      "execution_count": null,
      "outputs": []
    },
    {
      "cell_type": "code",
      "source": [
        "print(\"The result of A * B: \", A_times_B)"
      ],
      "metadata": {
        "colab": {
          "base_uri": "https://localhost:8080/"
        },
        "id": "JQQyesoHZ2wk",
        "outputId": "490b1069-08a2-40e9-93ef-c80b20d736ae"
      },
      "execution_count": null,
      "outputs": [
        {
          "output_type": "stream",
          "name": "stdout",
          "text": [
            "The result of A * B:  tensor([[0, 2],\n",
            "        [0, 2]])\n"
          ]
        }
      ]
    },
    {
      "cell_type": "code",
      "source": [
        "a = torch.tensor([[45,26], [96,33], [76,2]])\n",
        "a"
      ],
      "metadata": {
        "colab": {
          "base_uri": "https://localhost:8080/"
        },
        "id": "hYGFk3xNZ2ub",
        "outputId": "8764e96a-9101-4f97-d36f-56ce25143b45"
      },
      "execution_count": null,
      "outputs": [
        {
          "output_type": "execute_result",
          "data": {
            "text/plain": [
              "tensor([[45, 26],\n",
              "        [96, 33],\n",
              "        [76,  2]])"
            ]
          },
          "metadata": {},
          "execution_count": 58
        }
      ]
    },
    {
      "cell_type": "code",
      "source": [
        "b = torch.tensor([[462, 3, 752], [52, 74, 36]])\n",
        "b"
      ],
      "metadata": {
        "colab": {
          "base_uri": "https://localhost:8080/"
        },
        "id": "nUadDGUqZ2r9",
        "outputId": "0f21199d-b3f0-483b-e4ed-1957198b5f7d"
      },
      "execution_count": null,
      "outputs": [
        {
          "output_type": "execute_result",
          "data": {
            "text/plain": [
              "tensor([[462,   3, 752],\n",
              "        [ 52,  74,  36]])"
            ]
          },
          "metadata": {},
          "execution_count": 59
        }
      ]
    },
    {
      "cell_type": "code",
      "source": [
        "f = torch.mm(a, b)\n",
        "f"
      ],
      "metadata": {
        "colab": {
          "base_uri": "https://localhost:8080/"
        },
        "id": "6Ow-0ffOZ2pn",
        "outputId": "0ecee143-908c-4015-ee80-f78f01d24ef1"
      },
      "execution_count": null,
      "outputs": [
        {
          "output_type": "execute_result",
          "data": {
            "text/plain": [
              "tensor([[22142,  2059, 34776],\n",
              "        [46068,  2730, 73380],\n",
              "        [35216,   376, 57224]])"
            ]
          },
          "metadata": {},
          "execution_count": 61
        }
      ]
    },
    {
      "cell_type": "code",
      "source": [
        "X = torch.tensor([[0, 1], [1, 2]])\n",
        "X"
      ],
      "metadata": {
        "colab": {
          "base_uri": "https://localhost:8080/"
        },
        "id": "U0YWXLZTZ2nf",
        "outputId": "a891e43d-fe8b-453e-9df0-fcd5017e5a43"
      },
      "execution_count": null,
      "outputs": [
        {
          "output_type": "execute_result",
          "data": {
            "text/plain": [
              "tensor([[0, 1],\n",
              "        [1, 2]])"
            ]
          },
          "metadata": {},
          "execution_count": 62
        }
      ]
    },
    {
      "cell_type": "code",
      "source": [
        "Y = torch.tensor([[-1, -2, 0], [2, 1, 2]])\n",
        "Y"
      ],
      "metadata": {
        "colab": {
          "base_uri": "https://localhost:8080/"
        },
        "id": "_rXSFBGSZ2lP",
        "outputId": "86f016c1-bbe4-45ee-ec1f-47b200a6d3cc"
      },
      "execution_count": null,
      "outputs": [
        {
          "output_type": "execute_result",
          "data": {
            "text/plain": [
              "tensor([[-1, -2,  0],\n",
              "        [ 2,  1,  2]])"
            ]
          },
          "metadata": {},
          "execution_count": 63
        }
      ]
    },
    {
      "cell_type": "code",
      "source": [
        "X_times_Y = torch.mm(X, Y)"
      ],
      "metadata": {
        "id": "SNonnTB9Z2jO"
      },
      "execution_count": null,
      "outputs": []
    },
    {
      "cell_type": "code",
      "source": [
        "print(\"The result of X * Y: \", X_times_Y)"
      ],
      "metadata": {
        "colab": {
          "base_uri": "https://localhost:8080/"
        },
        "id": "RZO8rwUgZ2g3",
        "outputId": "500d3a02-ea53-4052-bfe0-40ba6f81295a"
      },
      "execution_count": null,
      "outputs": [
        {
          "output_type": "stream",
          "name": "stdout",
          "text": [
            "The result of X * Y:  tensor([[2, 1, 2],\n",
            "        [3, 0, 4]])\n"
          ]
        }
      ]
    },
    {
      "cell_type": "markdown",
      "source": [
        "### Derivatives"
      ],
      "metadata": {
        "id": "AH5AyvDHbDnY"
      }
    },
    {
      "cell_type": "code",
      "source": [
        "# Create a tensor x\n",
        "\n",
        "x = torch.tensor(2.0, requires_grad = True)\n",
        "x"
      ],
      "metadata": {
        "colab": {
          "base_uri": "https://localhost:8080/"
        },
        "id": "E_ibKrhPZ2Vb",
        "outputId": "b90dd4bb-1369-4b53-9f0f-490740a8c39b"
      },
      "execution_count": null,
      "outputs": [
        {
          "output_type": "execute_result",
          "data": {
            "text/plain": [
              "tensor(2., requires_grad=True)"
            ]
          },
          "metadata": {},
          "execution_count": 66
        }
      ]
    },
    {
      "cell_type": "code",
      "source": [
        "print(\"The tensor x: \", x)"
      ],
      "metadata": {
        "colab": {
          "base_uri": "https://localhost:8080/"
        },
        "id": "zst05Ydsa7Wc",
        "outputId": "941ace4c-a3a8-40b9-ad3d-f7f7334b6661"
      },
      "execution_count": null,
      "outputs": [
        {
          "output_type": "stream",
          "name": "stdout",
          "text": [
            "The tensor x:  tensor(2., requires_grad=True)\n"
          ]
        }
      ]
    },
    {
      "cell_type": "code",
      "source": [
        "# Create a tensor y according to y = x^2\n",
        "\n",
        "y = x ** 2\n",
        "y"
      ],
      "metadata": {
        "colab": {
          "base_uri": "https://localhost:8080/"
        },
        "id": "Bo4QHHAga7S_",
        "outputId": "867fa355-aa03-4c7d-8d24-0ab99592d5a1"
      },
      "execution_count": null,
      "outputs": [
        {
          "output_type": "execute_result",
          "data": {
            "text/plain": [
              "tensor(4., grad_fn=<PowBackward0>)"
            ]
          },
          "metadata": {},
          "execution_count": 68
        }
      ]
    },
    {
      "cell_type": "code",
      "source": [
        "print(\"The result of y = x^2: \", y)"
      ],
      "metadata": {
        "colab": {
          "base_uri": "https://localhost:8080/"
        },
        "id": "PaexIhTya7Qt",
        "outputId": "3e88acfb-3350-4da5-d4e4-81b8f85927af"
      },
      "execution_count": null,
      "outputs": [
        {
          "output_type": "stream",
          "name": "stdout",
          "text": [
            "The result of y = x^2:  tensor(4., grad_fn=<PowBackward0>)\n"
          ]
        }
      ]
    },
    {
      "cell_type": "code",
      "source": [
        "# Take the derivative. Try to print out the derivative at the value x = 2\n",
        "\n",
        "y.backward()"
      ],
      "metadata": {
        "id": "avqJM-Cra7OL"
      },
      "execution_count": null,
      "outputs": []
    },
    {
      "cell_type": "code",
      "source": [
        "print(\"The dervative at x = 2: \", x.grad)"
      ],
      "metadata": {
        "colab": {
          "base_uri": "https://localhost:8080/"
        },
        "id": "gXemMdGaa7Lt",
        "outputId": "6336b30e-f525-44aa-dec1-22d49055f28e"
      },
      "execution_count": null,
      "outputs": [
        {
          "output_type": "stream",
          "name": "stdout",
          "text": [
            "The dervative at x = 2:  tensor(4.)\n"
          ]
        }
      ]
    },
    {
      "cell_type": "code",
      "source": [
        "print('data:',x.data)"
      ],
      "metadata": {
        "colab": {
          "base_uri": "https://localhost:8080/"
        },
        "id": "pGZ43v7Ka7JU",
        "outputId": "e7a831de-712e-4ae2-ac31-99c499323341"
      },
      "execution_count": null,
      "outputs": [
        {
          "output_type": "stream",
          "name": "stdout",
          "text": [
            "data: tensor(2.)\n"
          ]
        }
      ]
    },
    {
      "cell_type": "code",
      "source": [
        "print('grad_fn:',x.grad_fn)"
      ],
      "metadata": {
        "colab": {
          "base_uri": "https://localhost:8080/"
        },
        "id": "y8nAeKVfa7G3",
        "outputId": "13c0a8c1-6241-4d67-ade4-8bb65a849d7b"
      },
      "execution_count": null,
      "outputs": [
        {
          "output_type": "stream",
          "name": "stdout",
          "text": [
            "grad_fn: None\n"
          ]
        }
      ]
    },
    {
      "cell_type": "code",
      "source": [
        "print('grad:',x.grad)"
      ],
      "metadata": {
        "colab": {
          "base_uri": "https://localhost:8080/"
        },
        "id": "HIGnBzv9a7Ea",
        "outputId": "04261e9b-553d-463c-9a1f-68970647c669"
      },
      "execution_count": null,
      "outputs": [
        {
          "output_type": "stream",
          "name": "stdout",
          "text": [
            "grad: tensor(4.)\n"
          ]
        }
      ]
    },
    {
      "cell_type": "code",
      "source": [
        "print(\"is_leaf:\",x.is_leaf)"
      ],
      "metadata": {
        "colab": {
          "base_uri": "https://localhost:8080/"
        },
        "id": "YQEOhd90a7B9",
        "outputId": "21a20297-8873-4536-f9d8-a534696fc614"
      },
      "execution_count": null,
      "outputs": [
        {
          "output_type": "stream",
          "name": "stdout",
          "text": [
            "is_leaf: True\n"
          ]
        }
      ]
    },
    {
      "cell_type": "code",
      "source": [
        "print(\"requires_grad:\",x.requires_grad)"
      ],
      "metadata": {
        "colab": {
          "base_uri": "https://localhost:8080/"
        },
        "id": "enqqb_lDa6_o",
        "outputId": "b41bf654-5c4e-4176-9418-b3d6feeed607"
      },
      "execution_count": null,
      "outputs": [
        {
          "output_type": "stream",
          "name": "stdout",
          "text": [
            "requires_grad: True\n"
          ]
        }
      ]
    },
    {
      "cell_type": "code",
      "source": [
        "print('data:',y.data)"
      ],
      "metadata": {
        "colab": {
          "base_uri": "https://localhost:8080/"
        },
        "id": "FR0pJmwma69J",
        "outputId": "0afb0c0f-6002-4eb7-fda8-5ec832521e88"
      },
      "execution_count": null,
      "outputs": [
        {
          "output_type": "stream",
          "name": "stdout",
          "text": [
            "data: tensor(4.)\n"
          ]
        }
      ]
    },
    {
      "cell_type": "code",
      "source": [
        "print('grad_fn:',y.grad_fn)"
      ],
      "metadata": {
        "colab": {
          "base_uri": "https://localhost:8080/"
        },
        "id": "fMAta0Vla66e",
        "outputId": "a4aa443e-f0bc-4d48-e3f4-52874123dbbe"
      },
      "execution_count": null,
      "outputs": [
        {
          "output_type": "stream",
          "name": "stdout",
          "text": [
            "grad_fn: <PowBackward0 object at 0x7fe44e5c57c0>\n"
          ]
        }
      ]
    },
    {
      "cell_type": "code",
      "source": [
        "print('grad:',y.grad)"
      ],
      "metadata": {
        "colab": {
          "base_uri": "https://localhost:8080/"
        },
        "id": "-PYmL_oBbr8H",
        "outputId": "6fdd8a44-58cc-445d-cc95-cdaa034362b3"
      },
      "execution_count": null,
      "outputs": [
        {
          "output_type": "stream",
          "name": "stdout",
          "text": [
            "grad: None\n"
          ]
        }
      ]
    },
    {
      "cell_type": "code",
      "source": [
        "print(\"is_leaf:\",y.is_leaf)"
      ],
      "metadata": {
        "colab": {
          "base_uri": "https://localhost:8080/"
        },
        "id": "0NHIoO7Nbr4n",
        "outputId": "c30bfec5-99fe-4d5e-a216-cec9cc7792b4"
      },
      "execution_count": null,
      "outputs": [
        {
          "output_type": "stream",
          "name": "stdout",
          "text": [
            "is_leaf: False\n"
          ]
        }
      ]
    },
    {
      "cell_type": "code",
      "source": [
        "print(\"requires_grad:\",y.requires_grad)"
      ],
      "metadata": {
        "colab": {
          "base_uri": "https://localhost:8080/"
        },
        "id": "4aztUXKTbr26",
        "outputId": "c311c45c-6948-4c04-99d6-9c2ca0d42456"
      },
      "execution_count": null,
      "outputs": [
        {
          "output_type": "stream",
          "name": "stdout",
          "text": [
            "requires_grad: True\n"
          ]
        }
      ]
    },
    {
      "cell_type": "code",
      "source": [
        "# Calculate the y = x^2 + 2x + 1, then find the derivative \n",
        "\n",
        "x = torch.tensor(2.0, requires_grad = True)\n",
        "y = x ** 2 + 2 * x + 1\n",
        "print(\"The result of y = x^2 + 2x + 1: \", y)\n",
        "y.backward()\n",
        "print(\"The dervative at x = 2: \", x.grad)"
      ],
      "metadata": {
        "colab": {
          "base_uri": "https://localhost:8080/"
        },
        "id": "dKX8HrCFbr0s",
        "outputId": "dcb9a736-0691-4efe-b316-997ea2544b72"
      },
      "execution_count": null,
      "outputs": [
        {
          "output_type": "stream",
          "name": "stdout",
          "text": [
            "The result of y = x^2 + 2x + 1:  tensor(9., grad_fn=<AddBackward0>)\n",
            "The dervative at x = 2:  tensor(6.)\n"
          ]
        }
      ]
    },
    {
      "cell_type": "code",
      "source": [
        "# Practice: Calculate the derivative of y = 2x^3 + x at x = 1\n",
        "\n",
        "a = torch.tensor(1.0, requires_grad= True)\n",
        "b = 2*a**3 + a"
      ],
      "metadata": {
        "id": "gEQa4bFNbryH"
      },
      "execution_count": null,
      "outputs": []
    },
    {
      "cell_type": "code",
      "source": [
        "b"
      ],
      "metadata": {
        "colab": {
          "base_uri": "https://localhost:8080/"
        },
        "id": "ATLT5voJbrv4",
        "outputId": "a6cbc3c5-c250-42ea-d81d-11560ba23118"
      },
      "execution_count": null,
      "outputs": [
        {
          "output_type": "execute_result",
          "data": {
            "text/plain": [
              "tensor(3., grad_fn=<AddBackward0>)"
            ]
          },
          "metadata": {},
          "execution_count": 86
        }
      ]
    },
    {
      "cell_type": "code",
      "source": [
        "a.grad"
      ],
      "metadata": {
        "id": "vzVfuAetbrtq"
      },
      "execution_count": null,
      "outputs": []
    },
    {
      "cell_type": "code",
      "source": [
        "a"
      ],
      "metadata": {
        "colab": {
          "base_uri": "https://localhost:8080/"
        },
        "id": "mJC5FMqwbrrY",
        "outputId": "255bbb2c-4c86-4a47-de94-27d96711124e"
      },
      "execution_count": null,
      "outputs": [
        {
          "output_type": "execute_result",
          "data": {
            "text/plain": [
              "tensor(1., requires_grad=True)"
            ]
          },
          "metadata": {},
          "execution_count": 88
        }
      ]
    },
    {
      "cell_type": "code",
      "source": [
        "b.backward()"
      ],
      "metadata": {
        "id": "_jPmCYSPbrpI"
      },
      "execution_count": null,
      "outputs": []
    },
    {
      "cell_type": "code",
      "source": [
        "b"
      ],
      "metadata": {
        "colab": {
          "base_uri": "https://localhost:8080/"
        },
        "id": "NPMboVXdbrmy",
        "outputId": "fc949c64-19cc-4738-b3be-7018c916d18b"
      },
      "execution_count": null,
      "outputs": [
        {
          "output_type": "execute_result",
          "data": {
            "text/plain": [
              "tensor(3., grad_fn=<AddBackward0>)"
            ]
          },
          "metadata": {},
          "execution_count": 90
        }
      ]
    },
    {
      "cell_type": "markdown",
      "source": [
        "We can implement our own custom autograd Functions by subclassing torch.autograd.Function and implementing the forward and backward passes which operate on Tensors"
      ],
      "metadata": {
        "id": "ZmrljGW2dQ7c"
      }
    },
    {
      "cell_type": "code",
      "source": [
        "class SQ(torch.autograd.Function):\n",
        "\n",
        "\n",
        "    @staticmethod\n",
        "    def forward(ctx,i):\n",
        "        \"\"\"\n",
        "        In the forward pass we receive a Tensor containing the input and return\n",
        "        a Tensor containing the output. ctx is a context object that can be used\n",
        "        to stash information for backward computation. You can cache arbitrary\n",
        "        objects for use in the backward pass using the ctx.save_for_backward method.\n",
        "        \"\"\"\n",
        "        result=i**2\n",
        "        ctx.save_for_backward(i)\n",
        "        return result\n",
        "\n",
        "    @staticmethod\n",
        "    def backward(ctx, grad_output):\n",
        "        \"\"\"\n",
        "        In the backward pass we receive a Tensor containing the gradient of the loss\n",
        "        with respect to the output, and we need to compute the gradient of the loss\n",
        "        with respect to the input.\n",
        "        \"\"\"\n",
        "        i, = ctx.saved_tensors\n",
        "        grad_output = 2*i\n",
        "        return grad_output"
      ],
      "metadata": {
        "id": "7MbnClR_brkj"
      },
      "execution_count": null,
      "outputs": []
    },
    {
      "cell_type": "code",
      "source": [
        "x=torch.tensor(2.0,requires_grad=True )\n",
        "sq=SQ.apply\n",
        "\n",
        "y=sq(x)\n",
        "y\n",
        "print(y.grad_fn)\n",
        "y.backward()\n",
        "x.grad"
      ],
      "metadata": {
        "colab": {
          "base_uri": "https://localhost:8080/"
        },
        "id": "e_9h8vzJbriT",
        "outputId": "33555b3f-0afd-47cd-d873-99d77f1d8d28"
      },
      "execution_count": null,
      "outputs": [
        {
          "output_type": "stream",
          "name": "stdout",
          "text": [
            "<torch.autograd.function.SQBackward object at 0x7fe44e652400>\n"
          ]
        },
        {
          "output_type": "execute_result",
          "data": {
            "text/plain": [
              "tensor(4.)"
            ]
          },
          "metadata": {},
          "execution_count": 92
        }
      ]
    },
    {
      "cell_type": "markdown",
      "source": [
        "### Partial Derivatives"
      ],
      "metadata": {
        "id": "7FOmWo7_dapB"
      }
    },
    {
      "cell_type": "code",
      "source": [
        "# Calculate f(u, v) = v * u + u^2 at u = 1, v = 2\n",
        "\n",
        "u = torch.tensor(1.0,requires_grad=True)\n",
        "u"
      ],
      "metadata": {
        "colab": {
          "base_uri": "https://localhost:8080/"
        },
        "id": "i8dw3gOEbrgE",
        "outputId": "d4482ad2-505e-409b-aa5a-c3616f760f73"
      },
      "execution_count": null,
      "outputs": [
        {
          "output_type": "execute_result",
          "data": {
            "text/plain": [
              "tensor(1., requires_grad=True)"
            ]
          },
          "metadata": {},
          "execution_count": 93
        }
      ]
    },
    {
      "cell_type": "code",
      "source": [
        "v = torch.tensor(2.0,requires_grad=True)\n",
        "v"
      ],
      "metadata": {
        "colab": {
          "base_uri": "https://localhost:8080/"
        },
        "id": "ykdV9-Csbrd6",
        "outputId": "b6932a2a-d7e0-4687-89a2-11f52408ace9"
      },
      "execution_count": null,
      "outputs": [
        {
          "output_type": "execute_result",
          "data": {
            "text/plain": [
              "tensor(2., requires_grad=True)"
            ]
          },
          "metadata": {},
          "execution_count": 94
        }
      ]
    },
    {
      "cell_type": "code",
      "source": [
        "f = u * v + u ** 2"
      ],
      "metadata": {
        "id": "2ImITku5brbt"
      },
      "execution_count": null,
      "outputs": []
    },
    {
      "cell_type": "code",
      "source": [
        "print(\"The result of v * u + u^2: \", f)"
      ],
      "metadata": {
        "colab": {
          "base_uri": "https://localhost:8080/"
        },
        "id": "9xuC0xwfbrZi",
        "outputId": "8e1b1c1e-ab52-4628-eae2-898f0ab60294"
      },
      "execution_count": null,
      "outputs": [
        {
          "output_type": "stream",
          "name": "stdout",
          "text": [
            "The result of v * u + u^2:  tensor(3., grad_fn=<AddBackward0>)\n"
          ]
        }
      ]
    },
    {
      "cell_type": "code",
      "source": [
        "# Calculate the derivative with respect to u\n",
        "\n",
        "f.backward()\n",
        "print(\"The partial derivative with respect to u: \", u.grad)"
      ],
      "metadata": {
        "colab": {
          "base_uri": "https://localhost:8080/"
        },
        "id": "aW1eK4stbrXS",
        "outputId": "4abf91b8-bf75-4d62-cbbe-f978928b4ac4"
      },
      "execution_count": null,
      "outputs": [
        {
          "output_type": "stream",
          "name": "stdout",
          "text": [
            "The partial derivative with respect to u:  tensor(4.)\n"
          ]
        }
      ]
    },
    {
      "cell_type": "code",
      "source": [
        "# Calculate the derivative with respect to v\n",
        "\n",
        "print(\"The partial derivative with respect to u: \", v.grad)"
      ],
      "metadata": {
        "colab": {
          "base_uri": "https://localhost:8080/"
        },
        "id": "wW11vNIibrU8",
        "outputId": "bf40e154-ffb3-4119-f9bd-342eb4e9477e"
      },
      "execution_count": null,
      "outputs": [
        {
          "output_type": "stream",
          "name": "stdout",
          "text": [
            "The partial derivative with respect to u:  tensor(1.)\n"
          ]
        }
      ]
    },
    {
      "cell_type": "code",
      "source": [
        "# Calculate the derivative with multiple values\n",
        "\n",
        "x = torch.linspace(-10, 10, 10, requires_grad = True)\n",
        "Y = x ** 2\n",
        "y = torch.sum(x ** 2)"
      ],
      "metadata": {
        "id": "I-errrt_brSt"
      },
      "execution_count": null,
      "outputs": []
    },
    {
      "cell_type": "code",
      "source": [
        "# Take the derivative with respect to multiple value. Plot out the function and its derivative\n",
        "\n",
        "y.backward()\n",
        "\n",
        "plt.plot(x.detach().numpy(), Y.detach().numpy(), label = 'function')\n",
        "plt.plot(x.detach().numpy(), x.grad.detach().numpy(), label = 'derivative')\n",
        "plt.xlabel('x')\n",
        "plt.legend()\n",
        "plt.show()"
      ],
      "metadata": {
        "colab": {
          "base_uri": "https://localhost:8080/",
          "height": 279
        },
        "id": "IHFF2YFdbrQd",
        "outputId": "2ce63ba9-872d-4d6c-dbef-402aa93bed43"
      },
      "execution_count": null,
      "outputs": [
        {
          "output_type": "display_data",
          "data": {
            "text/plain": [
              "<Figure size 432x288 with 1 Axes>"
            ],
            "image/png": "[encoded data removed]"
          },
          "metadata": {
            "needs_background": "light"
          }
        }
      ]
    },
    {
      "cell_type": "code",
      "source": [
        "# Take the derivative of Relu with respect to multiple value. Plot out the function and its derivative\n",
        "\n",
        "x = torch.linspace(-10, 10, 1000, requires_grad = True)\n",
        "Y = torch.relu(x)\n",
        "y = Y.sum()\n",
        "y.backward()\n",
        "plt.plot(x.detach().numpy(), Y.detach().numpy(), label = 'function')\n",
        "plt.plot(x.detach().numpy(), x.grad.detach().numpy(), label = 'derivative')\n",
        "plt.xlabel('x')\n",
        "plt.legend()\n",
        "plt.show()"
      ],
      "metadata": {
        "colab": {
          "base_uri": "https://localhost:8080/",
          "height": 279
        },
        "id": "SMqTlVQwbrOU",
        "outputId": "18d2fffa-feda-4aab-a5a3-0b515ad0385a"
      },
      "execution_count": null,
      "outputs": [
        {
          "output_type": "display_data",
          "data": {
            "text/plain": [
              "<Figure size 432x288 with 1 Axes>"
            ],
            "image/png": "[encoded data removed]"
          },
          "metadata": {
            "needs_background": "light"
          }
        }
      ]
    },
    {
      "cell_type": "code",
      "source": [
        "y.grad_fn"
      ],
      "metadata": {
        "colab": {
          "base_uri": "https://localhost:8080/"
        },
        "id": "NFKQu_a6Z2TE",
        "outputId": "4bfeb59c-3484-436e-e307-e056150f3d1c"
      },
      "execution_count": null,
      "outputs": [
        {
          "output_type": "execute_result",
          "data": {
            "text/plain": [
              "<SumBackward0 at 0x7fe4f47eb5e0>"
            ]
          },
          "metadata": {},
          "execution_count": 102
        }
      ]
    },
    {
      "cell_type": "code",
      "source": [
        "# Practice: Calculate the derivative of f = u * v + (u * v) ** 2 at u = 2, v = 1\n",
        "\n",
        "u = torch.tensor(2.0, requires_grad = True)\n",
        "v = torch.tensor(1.0, requires_grad = True)\n",
        "f = u * v + (u * v) ** 2\n",
        "f.backward()\n",
        "print(\"The result is \", u.grad)"
      ],
      "metadata": {
        "colab": {
          "base_uri": "https://localhost:8080/"
        },
        "id": "DZikYxXEef01",
        "outputId": "7b220a9e-5566-4b01-f850-9eaaf7eb49c8"
      },
      "execution_count": null,
      "outputs": [
        {
          "output_type": "stream",
          "name": "stdout",
          "text": [
            "The result is  tensor(5.)\n"
          ]
        }
      ]
    }
  ]
}